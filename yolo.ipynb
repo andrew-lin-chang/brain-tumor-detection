{
 "cells": [
  {
   "cell_type": "code",
   "execution_count": 2,
   "metadata": {},
   "outputs": [
    {
     "name": "stdout",
     "output_type": "stream",
     "text": [
      "\n",
      "image 1/1 c:\\Users\\andre\\Desktop\\ece460j\\brain-tumor-detection\\brain_tumor_dataset\\yes\\Y1.jpg: 640x544 1 vase, 126.4ms\n",
      "Speed: 4.8ms preprocess, 126.4ms inference, 100.1ms postprocess per image at shape (1, 3, 640, 544)\n"
     ]
    }
   ],
   "source": [
    "from ultralytics import YOLO\n",
    "\n",
    "model = YOLO('yolov8n.pt')  # initialize model\n",
    "results = model('brain_tumor_dataset/yes/Y1.jpg')  # perform inference\n",
    "results[0].show()  # display results for the first image"
   ]
  }
 ],
 "metadata": {
  "kernelspec": {
   "display_name": "base",
   "language": "python",
   "name": "python3"
  },
  "language_info": {
   "codemirror_mode": {
    "name": "ipython",
    "version": 3
   },
   "file_extension": ".py",
   "mimetype": "text/x-python",
   "name": "python",
   "nbconvert_exporter": "python",
   "pygments_lexer": "ipython3",
   "version": "3.11.5"
  }
 },
 "nbformat": 4,
 "nbformat_minor": 2
}
